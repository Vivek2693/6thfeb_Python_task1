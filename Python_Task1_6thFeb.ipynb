{
 "cells": [
  {
   "cell_type": "markdown",
   "id": "167a6a0d-29c7-4152-bfde-80f8f63b14f9",
   "metadata": {},
   "source": [
    "Q1. Create a function which will take a list as an argument and return the product of all the numbers\n",
    "after creating a flat list.\n",
    "Use the below-given list as an argument for your function."
   ]
  },
  {
   "cell_type": "code",
   "execution_count": 9,
   "id": "2bcf9214-f93a-4951-bb63-2dd49a1547d7",
   "metadata": {},
   "outputs": [
    {
     "name": "stdout",
     "output_type": "stream",
     "text": [
      "\n"
     ]
    }
   ],
   "source": [
    "def product_of_numbers(list_input):\n",
    "  \"\"\"\n",
    "  This function takes a list as an argument and returns the product of all the numbers\n",
    "  after creating a flat list.\n",
    "\n",
    "  Args:\n",
    "    list_input: A list of numbers.\n",
    "\n",
    "  Returns:\n",
    "    The product of all the numbers in the list.\n",
    "  \"\"\"\n",
    "\n",
    "  flat_list = []\n",
    "  for element in list_input:\n",
    "    if isinstance(element, list):\n",
    "      flat_list.extend(element)\n",
    "    else:\n",
    "      if isinstance(element, int) or isinstance(element, float):\n",
    "        flat_list.append(element)\n",
    "      elif isinstance(element, dict):\n",
    "        for key, value in element.items():\n",
    "          if isinstance(key, int) or isinstance(key, float):\n",
    "            flat_list.append(key)\n",
    "          elif isinstance(value, int) or isinstance(value, float):\n",
    "            flat_list.append(value)\n",
    "\n",
    "  product = 1\n",
    "  for number in flat_list:\n",
    "    product *= number\n",
    "\n",
    "  return product\n",
    "\n",
    "\n",
    "list1 = [1, 2, 3, 4, [44, 55, 66, True], False, (34, 56, 78, 89, 34), {1, 2, 3, 3, 2, 1}, {1: 34, \"key2\": [55, 67, 78, 89], 4: (45, 22, 61, 34)}, [56, 'data science'], 'Machine Learning']\n",
    "\n",
    "print(product_of_numbers(list1))\n"
   ]
  },
  {
   "cell_type": "code",
   "execution_count": 10,
   "id": "87f474f5-1b99-4960-b2c8-45aacf39f64a",
   "metadata": {},
   "outputs": [
    {
     "name": "stdout",
     "output_type": "stream",
     "text": [
      "\n"
     ]
    }
   ],
   "source": [
    "print(product_of_numbers(list1))\n"
   ]
  },
  {
   "cell_type": "markdown",
   "id": "07921d4a-bcd6-42de-9f7f-7864f4f16600",
   "metadata": {},
   "source": [
    "Q2. Write a python program for encrypting a message sent to you by your friend. The logic of encryption\n",
    "should be such that, for a the output should be z. For b, the output should be y. For c, the output should\n",
    "be x respectively. Also, the whitespace should be replaced with a dollar sign. Keep the punctuation\n",
    "marks unchanged."
   ]
  },
  {
   "cell_type": "code",
   "execution_count": 18,
   "id": "b6eaee4e-970b-4eab-a649-779d342ea105",
   "metadata": {},
   "outputs": [
    {
     "name": "stdout",
     "output_type": "stream",
     "text": [
      "j$xbou$up$cfdpnf$b$ebub$tdjfoujtu\n"
     ]
    }
   ],
   "source": [
    "def encrypt_message(message):\n",
    "  \"\"\"\n",
    "  This function encrypts a message by replacing all the letters with the next letter in the alphabet,\n",
    "  and replacing all the whitespace with a dollar sign.\n",
    "\n",
    "  Args:\n",
    "    message: The message to be encrypted.\n",
    "\n",
    "  Returns:\n",
    "    The encrypted message.\n",
    "  \"\"\"\n",
    "\n",
    "  encrypted_message = \"\"\n",
    "  for letter in message.lower():\n",
    "    if letter.isalpha():\n",
    "      encrypted_letter = chr(ord(letter) + 1)\n",
    "    else:\n",
    "      encrypted_letter = letter\n",
    "\n",
    "    if letter == \" \":\n",
    "      encrypted_letter = \"$\"\n",
    "\n",
    "    encrypted_message += encrypted_letter\n",
    "\n",
    "  return encrypted_message\n",
    "\n",
    "\n",
    "message = \"i want to become a data scientist\"\n",
    "encrypted_message = encrypt_message(message)\n",
    "print(encrypted_message)\n"
   ]
  },
  {
   "cell_type": "code",
   "execution_count": null,
   "id": "14c1bc87-79c4-4bdb-8845-7482879523d3",
   "metadata": {},
   "outputs": [],
   "source": []
  },
  {
   "cell_type": "code",
   "execution_count": null,
   "id": "9c2c4aea-4a26-46a8-a53f-3713c4436601",
   "metadata": {},
   "outputs": [],
   "source": []
  }
 ],
 "metadata": {
  "kernelspec": {
   "display_name": "Python 3 (ipykernel)",
   "language": "python",
   "name": "python3"
  },
  "language_info": {
   "codemirror_mode": {
    "name": "ipython",
    "version": 3
   },
   "file_extension": ".py",
   "mimetype": "text/x-python",
   "name": "python",
   "nbconvert_exporter": "python",
   "pygments_lexer": "ipython3",
   "version": "3.10.8"
  }
 },
 "nbformat": 4,
 "nbformat_minor": 5
}
